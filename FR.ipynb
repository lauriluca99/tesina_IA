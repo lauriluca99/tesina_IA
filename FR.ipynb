{
 "cells": [
  {
   "cell_type": "code",
   "execution_count": 2,
   "id": "5aeee4ee",
   "metadata": {
    "scrolled": true
   },
   "outputs": [
    {
     "name": "stdout",
     "output_type": "stream",
     "text": [
      "Collecting face_recognition\n",
      "  Using cached face_recognition-1.3.0-py2.py3-none-any.whl (15 kB)\n",
      "Requirement already satisfied: numpy in /Users/labaudio/.local/lib/python3.8/site-packages (from face_recognition) (1.22.3)\n",
      "Requirement already satisfied: Pillow in /Users/labaudio/opt/anaconda3/lib/python3.8/site-packages (from face_recognition) (8.2.0)\n",
      "Requirement already satisfied: Click>=6.0 in /Users/labaudio/opt/anaconda3/lib/python3.8/site-packages (from face_recognition) (7.1.2)\n",
      "Collecting dlib>=19.7\n",
      "  Using cached dlib-19.24.0.tar.gz (3.2 MB)\n",
      "  Preparing metadata (setup.py) ... \u001b[?25ldone\n",
      "\u001b[?25hCollecting face-recognition-models>=0.3.0\n",
      "  Using cached face_recognition_models-0.3.0.tar.gz (100.1 MB)\n",
      "  Preparing metadata (setup.py) ... \u001b[?25ldone\n",
      "\u001b[?25hBuilding wheels for collected packages: dlib, face-recognition-models\n",
      "  Building wheel for dlib (setup.py) ... \u001b[?25ldone\n",
      "\u001b[?25h  Created wheel for dlib: filename=dlib-19.24.0-cp38-cp38-macosx_13_0_x86_64.whl size=3812606 sha256=10d32c990c06a6045b41c0bb4dbccea06919893e1018dccde2b38b9c9c800044\n",
      "  Stored in directory: /Users/labaudio/Library/Caches/pip/wheels/4c/d8/2d/a83b10e7bf10cd7d8bef36bf4dcd15b0c9ebf98f990bc984dd\n",
      "  Building wheel for face-recognition-models (setup.py) ... \u001b[?25ldone\n",
      "\u001b[?25h  Created wheel for face-recognition-models: filename=face_recognition_models-0.3.0-py2.py3-none-any.whl size=100566173 sha256=01b3191d8fd2e7251be5163f5512eaa50213ffb76e23da22001227514be338d4\n",
      "  Stored in directory: /Users/labaudio/Library/Caches/pip/wheels/b4/4b/8f/751e99d45f089bdf366a7d3e5066db3c2b84a62e4377f534d7\n",
      "Successfully built dlib face-recognition-models\n",
      "Installing collected packages: face-recognition-models, dlib, face_recognition\n",
      "Successfully installed dlib-19.24.0 face-recognition-models-0.3.0 face_recognition-1.3.0\n",
      "\u001b[33mWARNING: You are using pip version 22.0.4; however, version 23.0.1 is available.\n",
      "You should consider upgrading via the '/Users/labaudio/opt/anaconda3/bin/python -m pip install --upgrade pip' command.\u001b[0m\u001b[33m\n",
      "\u001b[0mNote: you may need to restart the kernel to use updated packages.\n"
     ]
    }
   ],
   "source": [
    "pip install face_recognition"
   ]
  },
  {
   "cell_type": "code",
   "execution_count": 4,
   "id": "2382ad64",
   "metadata": {},
   "outputs": [
    {
     "name": "stdout",
     "output_type": "stream",
     "text": [
      "No\n"
     ]
    }
   ],
   "source": [
    "import face_recognition\n",
    "\n",
    "\n",
    "known_image = face_recognition.load_image_file(\"drake.jpeg\")\n",
    "unknown_image = face_recognition.load_image_file(\"volti.jpg\")\n",
    "\n",
    "know_encoding = face_recognition.face_encodings(known_image)[0]\n",
    "unknow_encoding = face_recognition.face_encodings(unknown_image)[0]\n",
    "\n",
    "result = face_recognition.compare_faces([know_encoding], unknow_encoding)\n",
    "answer= \"Si\" if result[0] else \"No\"\n",
    "\n",
    "print(answer)"
   ]
  },
  {
   "cell_type": "code",
   "execution_count": null,
   "id": "dbea839a",
   "metadata": {},
   "outputs": [],
   "source": []
  },
  {
   "cell_type": "code",
   "execution_count": null,
   "id": "0c6c7fcd",
   "metadata": {},
   "outputs": [],
   "source": []
  },
  {
   "cell_type": "code",
   "execution_count": null,
   "id": "de5ecd48",
   "metadata": {},
   "outputs": [],
   "source": []
  }
 ],
 "metadata": {
  "kernelspec": {
   "display_name": "Python 3",
   "language": "python",
   "name": "python3"
  },
  "language_info": {
   "codemirror_mode": {
    "name": "ipython",
    "version": 3
   },
   "file_extension": ".py",
   "mimetype": "text/x-python",
   "name": "python",
   "nbconvert_exporter": "python",
   "pygments_lexer": "ipython3",
   "version": "3.8.8"
  }
 },
 "nbformat": 4,
 "nbformat_minor": 5
}
