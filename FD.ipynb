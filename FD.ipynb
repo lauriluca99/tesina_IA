{
 "cells": [
  {
   "cell_type": "code",
   "execution_count": null,
   "id": "9ed4254d",
   "metadata": {},
   "outputs": [],
   "source": [
    "pip install opencv-python"
   ]
  },
  {
   "cell_type": "code",
   "execution_count": null,
   "id": "c6ea292a",
   "metadata": {},
   "outputs": [],
   "source": [
    "import numpy as np"
   ]
  },
  {
   "cell_type": "code",
   "execution_count": 6,
   "id": "f4537c21",
   "metadata": {},
   "outputs": [],
   "source": [
    "import numpy as np\n",
    "import cv2\n",
    "# cascade classifier funziona solo con immagini in bianco e nero\n",
    "face_cascade = cv2.CascadeClassifier(cv2.data.haarcascades + 'haarcascade_frontalface_default.xml')\n",
    "eye_cascade = cv2.CascadeClassifier(cv2.data.haarcascades + 'haarcascade_eye.xml')\n",
    "\n",
    "img = cv2.imread('test.jpg')\n",
    "\n",
    "# conversione B and W\n",
    "gray = cv2.cvtColor(img, cv2.COLOR_BGR2GRAY)\n",
    "\n",
    "# 1.1 significa ridurre la finestra di un 10% ad ogni iterazione, meno riduci più preciso ma più lento\n",
    "faces = face_cascade.detectMultiScale(gray, 1.1, 5)\n",
    "#faces = face_cascade.detectMultiScale(gray)\n",
    "\n",
    "# x,y sono i punti di origine della finestra, w,h invece sono altezza e larghezza della finestra\n",
    "for (x,y,w,h) in faces:\n",
    "    # disegna il rettangolo per ogni finestra trovata\n",
    "    cv2.rectangle(img,(x,y),(x+w,y+h),(255,0,0),2)\n",
    "    roi_gray = gray[y:y+h, x:x+w]\n",
    "    roi_color = img[y:y+h, x:x+w]\n",
    "    eyes = eye_cascade.detectMultiScale(roi_gray)\n",
    "    for (ex,ey,ew,eh) in eyes:\n",
    "        cv2.rectangle(roi_color,(ex,ey),(ex+ew,ey+eh),(0,255,0),2)\n",
    "\n",
    "cv2.imshow('img',img)\n",
    "\n",
    "cv2.waitKey(0)\n",
    "#k = cv2.waitKey(0)\n",
    "# if k == 27:         # wait for ESC key to exit\n",
    "cv2.destroyAllWindows()\n",
    "# elif k == ord('s'): # wait for 's' key to save and exit\n",
    "    # cv2.imwrite('messigray.png',img)\n",
    "    # cv2.destroyAllWindows()"
   ]
  },
  {
   "cell_type": "code",
   "execution_count": null,
   "id": "ce1ec485",
   "metadata": {},
   "outputs": [],
   "source": []
  },
  {
   "cell_type": "code",
   "execution_count": null,
   "id": "60922ebe",
   "metadata": {},
   "outputs": [],
   "source": []
  }
 ],
 "metadata": {
  "kernelspec": {
   "display_name": "Python 3",
   "language": "python",
   "name": "python3"
  },
  "language_info": {
   "codemirror_mode": {
    "name": "ipython",
    "version": 3
   },
   "file_extension": ".py",
   "mimetype": "text/x-python",
   "name": "python",
   "nbconvert_exporter": "python",
   "pygments_lexer": "ipython3",
   "version": "3.8.8"
  }
 },
 "nbformat": 4,
 "nbformat_minor": 5
}
